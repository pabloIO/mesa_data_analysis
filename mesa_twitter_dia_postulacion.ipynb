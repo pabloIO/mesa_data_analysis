{
 "cells": [
  {
   "cell_type": "code",
   "execution_count": 1,
   "metadata": {
    "collapsed": false
   },
   "outputs": [
    {
     "name": "stderr",
     "output_type": "stream",
     "text": [
      "/Users/pablojordan/anaconda/lib/python3.6/site-packages/sklearn/cross_validation.py:44: DeprecationWarning: This module was deprecated in version 0.18 in favor of the model_selection module into which all the refactored classes and functions are moved. Also note that the interface of the new CV iterators are different from that of this module. This module will be removed in 0.20.\n",
      "  \"This module will be removed in 0.20.\", DeprecationWarning)\n"
     ]
    }
   ],
   "source": [
    "import sys\n",
    "import os.path\n",
    "import pandas as pd\n",
    "import numpy as np\n",
    "from sklearn import cross_validation\n",
    "from sklearn.feature_extraction.text import TfidfVectorizer\n",
    "from sklearn.feature_extraction.text import CountVectorizer\n",
    "from sklearn.feature_extraction.text import CountVectorizer\n",
    "from sklearn.feature_selection import SelectPercentile, f_classif\n",
    "import requests\n",
    "import json\n",
    "import matplotlib.pyplot as plt\n",
    "%matplotlib inline\n",
    "\n",
    "def import_sp_stop_words(jsonfile):\n",
    "    with open(jsonfile, 'r') as file:\n",
    "        jsondict = json.load(file)\n",
    "    return jsondict['stop_words_es']\n",
    "\n",
    "SPANISH_STOP_WORDS = import_sp_stop_words('stop_words_es.json')\n"
   ]
  },
  {
   "cell_type": "code",
   "execution_count": 36,
   "metadata": {
    "collapsed": false
   },
   "outputs": [
    {
     "name": "stdout",
     "output_type": "stream",
     "text": [
      "139463.33333333334\n"
     ]
    }
   ],
   "source": [
    "## Reporte de datos respecto al usuario @carlosdmesag en Twitter\n",
    "# numero de alcande\n",
    "reach  = np.array([31261, 127026, 260103])\n",
    "## numero de impresiones\n",
    "impressions = [193814, 157136, 320252]\n",
    "# horas desde que fueron sacados los datos de tweet reach\n",
    "hours = [21, 22, 23]\n",
    "\n",
    "reach_mean = np.mean(reach)\n",
    "print(reach_mean)\n"
   ]
  },
  {
   "cell_type": "code",
   "execution_count": 44,
   "metadata": {
    "collapsed": false
   },
   "outputs": [
    {
     "name": "stdout",
     "output_type": "stream",
     "text": [
      "######################################################################\n",
      "Frecuencia de conteo de palabras en tweets - Algoritmo CountVectorizer\n",
      "######################################################################\n",
      "[{'15': 4, '16': 4, '1hugozarate': 3, '2019': 8, '21f': 6, '4cqizl7c2j': 3, '65': 3, 'abadoblitas': 11, 'acabado': 5, 'acepta': 4, 'actos': 5, 'afi': 5, 'alguien': 3, 'alianza': 3, 'alto': 3, 'amilcarbarral': 6, 'anf': 17, 'anunciando': 5, 'anuncio': 4, 'areglan': 3, 'atbdigital': 6, 'atbrednacional': 3, 'avsix': 4, 'años': 16, 'bi0mekiygu': 3, 'bitduarte': 5, 'blwhght': 3, 'bolivia': 34, 'boliviana': 3, 'ca': 8, 'caballo': 3, 'cabeza': 3, 'calcados': 4, 'callejaselmar': 3, 'candidato': 42, 'candidatura': 19, 'candidaturas': 3, 'canela_cs': 4, 'carlo': 5, 'carlos': 25, 'carlosd': 4, 'carlosdmesag': 266, 'choqueyapu': 8, 'ciudadanos': 21, 'co': 126, 'competirá': 5, 'confirma': 9, 'cotizados': 3, 'cree': 6, 'creen': 4, 'cuadernosge': 3, 'decisión': 8, 'defender': 3, 'demanda': 5, 'democracia': 9, 'democratasbo': 14, 'derecho': 3, 'deseo': 5, 'dexanfetamina': 3, 'diarioeldeber': 3, 'diputados_bol': 4, 'discurso': 6, 'don': 5, 'déjà': 5, 'eduardoerocad': 5, 'elecciones': 7, 'es_kahlo': 4, 'escuchamos': 5, 'esperanza': 4, 'evo': 15, 'evoespueblo': 17, 'fallo': 6, 'falta': 3, 'felicidades': 5, 'finalmente': 5, 'forma': 5, 'foto': 4, 'franzrbarriosg': 3, 'fri': 18, 'fu': 3, 'fulnnsskp5': 21, 'futuro': 7, 'ganar': 3, 'generacion_evo_': 4, 'generacional': 6, 'gobierno': 32, 'goni': 3, 'gracias': 3, 'historia': 14, 'hombre__libre': 3, 'https': 129, 'importante': 4, 'invitación': 6, 'invitado': 3, 'ivanariasduran': 5, 'jaimepazzamora': 18, 'jp_rivero': 3, 'kariduenalfaro': 5, 'katuarkonada': 12, 'lanzar': 3, 'libertad': 3, 'limosna': 3, 'llama': 3, 'luisrevillah': 3, 'magia': 5, 'mar': 5, 'mesa': 42, 'mfuenteselalto': 3, 'ministro': 5, 'monolargavista': 9, 'morales': 10, 'movimiento': 3, 'mundo': 5, 'necesita': 8, 'nlagunaq': 11, 'normapierola': 7, 'notibolgroup': 17, 'noticiasfides': 28, 'octubre': 3, 'oruro': 3, 'pajpaku': 4, 'participación': 4, 'participar': 3, 'partido': 5, 'pasados': 5, 'paulinochura': 3, 'paz': 3, 'país': 9, 'pensardiferente': 7, 'peoresnada': 3, 'pepepomacusi': 8, 'per': 4, 'plataformas': 3, 'política': 6, 'político': 5, 'políticos': 8, 'pomada': 4, 'prefiero': 8, 'pregunta': 5, 'presidencia': 15, 'presidencial': 6, 'presidenciales': 3, 'presidente': 22, 'primarias': 4, 'pueblo': 4, 'pueblos': 4, 'querido': 6, 'razón': 3, 'realmente': 4, 'recuerdo': 3, 'redes': 4, 'renovación': 7, 'repercusiones': 4, 'repite': 3, 'respuesta': 24, 'rmwr9svnym': 4, 'romero': 5, 'rt': 149, 'rubencostasa': 5, 'río': 8, 'saludamos': 5, 'sdoriamedina': 11, 'semana': 5, 'sentimientos': 4, 'señor': 6, 'sociales': 4, 'solparabolivia': 11, 'solteros': 3, 'srjudaz': 4, 'sumaj_warmi': 10, 'tipo': 6, 'tirarme': 8, 'tomar': 5, 'troya': 3, 'tutoquiroga': 4, 'ud': 8, 'unidadnacional1': 3, 'urgentemente': 4, 'valeqinaya': 9, 'venden': 4, 'vender': 5, 'vhcardenasc': 4, 'video': 5, 'vota': 5, 'vu': 5, 'vía': 21, 'vídeos': 4, 'youtube': 60, 'único': 5}, {'2019': 8, '21f': 6, 'abadoblitas': 11, 'amilcarbarral': 6, 'anf': 17, 'atbdigital': 6, 'años': 16, 'bolivia': 34, 'ca': 8, 'candidato': 42, 'candidatura': 19, 'carlos': 25, 'carlosdmesag': 266, 'choqueyapu': 8, 'ciudadanos': 21, 'co': 126, 'confirma': 9, 'cree': 6, 'decisión': 8, 'democracia': 9, 'democratasbo': 14, 'discurso': 6, 'elecciones': 7, 'evo': 15, 'evoespueblo': 17, 'fallo': 6, 'fri': 18, 'fulnnsskp5': 21, 'futuro': 7, 'generacional': 6, 'gobierno': 32, 'historia': 14, 'https': 129, 'jaimepazzamora': 18, 'katuarkonada': 12, 'mesa': 42, 'monolargavista': 9, 'morales': 10, 'necesita': 8, 'nlagunaq': 11, 'normapierola': 7, 'notibolgroup': 17, 'noticiasfides': 28, 'país': 9, 'pensardiferente': 7, 'pepepomacusi': 8, 'política': 6, 'políticos': 8, 'prefiero': 8, 'presidencia': 15, 'presidencial': 6, 'presidente': 22, 'querido': 6, 'renovación': 7, 'respuesta': 24, 'rt': 149, 'río': 8, 'sdoriamedina': 11, 'señor': 6, 'solparabolivia': 11, 'sumaj_warmi': 10, 'tipo': 6, 'tirarme': 8, 'ud': 8, 'valeqinaya': 9, 'vía': 21, 'youtube': 60}, {'abadoblitas': 11, 'anf': 17, 'años': 16, 'bolivia': 34, 'candidato': 42, 'candidatura': 19, 'carlos': 25, 'carlosdmesag': 266, 'ciudadanos': 21, 'co': 126, 'confirma': 9, 'democracia': 9, 'democratasbo': 14, 'evo': 15, 'evoespueblo': 17, 'fri': 18, 'fulnnsskp5': 21, 'gobierno': 32, 'historia': 14, 'https': 129, 'jaimepazzamora': 18, 'katuarkonada': 12, 'mesa': 42, 'monolargavista': 9, 'morales': 10, 'nlagunaq': 11, 'notibolgroup': 17, 'noticiasfides': 28, 'país': 9, 'presidencia': 15, 'presidente': 22, 'respuesta': 24, 'rt': 149, 'sdoriamedina': 11, 'solparabolivia': 11, 'sumaj_warmi': 10, 'valeqinaya': 9, 'vía': 21, 'youtube': 60}, {'anf': 17, 'años': 16, 'bolivia': 34, 'candidato': 42, 'candidatura': 19, 'carlos': 25, 'carlosdmesag': 266, 'ciudadanos': 21, 'co': 126, 'democratasbo': 14, 'evo': 15, 'evoespueblo': 17, 'fri': 18, 'fulnnsskp5': 21, 'gobierno': 32, 'historia': 14, 'https': 129, 'jaimepazzamora': 18, 'katuarkonada': 12, 'mesa': 42, 'notibolgroup': 17, 'noticiasfides': 28, 'presidencia': 15, 'presidente': 22, 'respuesta': 24, 'rt': 149, 'vía': 21, 'youtube': 60}, {'anf': 17, 'años': 16, 'bolivia': 34, 'candidato': 42, 'candidatura': 19, 'carlos': 25, 'carlosdmesag': 266, 'ciudadanos': 21, 'co': 126, 'evo': 15, 'evoespueblo': 17, 'fri': 18, 'fulnnsskp5': 21, 'gobierno': 32, 'https': 129, 'jaimepazzamora': 18, 'mesa': 42, 'notibolgroup': 17, 'noticiasfides': 28, 'presidencia': 15, 'presidente': 22, 'respuesta': 24, 'rt': 149, 'vía': 21, 'youtube': 60}, {'bolivia': 34, 'candidato': 42, 'candidatura': 19, 'carlos': 25, 'carlosdmesag': 266, 'ciudadanos': 21, 'co': 126, 'fulnnsskp5': 21, 'gobierno': 32, 'https': 129, 'jaimepazzamora': 18, 'mesa': 42, 'noticiasfides': 28, 'presidente': 22, 'respuesta': 24, 'rt': 149, 'vía': 21, 'youtube': 60}, {'bolivia': 34, 'candidato': 42, 'carlos': 25, 'carlosdmesag': 266, 'ciudadanos': 21, 'co': 126, 'fulnnsskp5': 21, 'gobierno': 32, 'https': 129, 'mesa': 42, 'noticiasfides': 28, 'presidente': 22, 'respuesta': 24, 'rt': 149, 'vía': 21, 'youtube': 60}, {'bolivia': 34, 'candidato': 42, 'carlos': 25, 'carlosdmesag': 266, 'co': 126, 'gobierno': 32, 'https': 129, 'mesa': 42, 'noticiasfides': 28, 'respuesta': 24, 'rt': 149, 'youtube': 60}, {'bolivia': 34, 'candidato': 42, 'carlosdmesag': 266, 'co': 126, 'gobierno': 32, 'https': 129, 'mesa': 42, 'noticiasfides': 28, 'rt': 149, 'youtube': 60}, {'bolivia': 34, 'candidato': 42, 'carlosdmesag': 266, 'co': 126, 'gobierno': 32, 'https': 129, 'mesa': 42, 'rt': 149, 'youtube': 60}, {'candidato': 42, 'carlosdmesag': 266, 'co': 126, 'https': 129, 'mesa': 42, 'rt': 149, 'youtube': 60}, {'candidato': 42, 'carlosdmesag': 266, 'co': 126, 'https': 129, 'mesa': 42, 'rt': 149, 'youtube': 60}, {'candidato': 42, 'carlosdmesag': 266, 'co': 126, 'https': 129, 'mesa': 42, 'rt': 149, 'youtube': 60}, {'carlosdmesag': 266, 'co': 126, 'https': 129, 'rt': 149, 'youtube': 60}, {'carlosdmesag': 266, 'co': 126, 'https': 129, 'rt': 149, 'youtube': 60}, {'carlosdmesag': 266, 'co': 126, 'https': 129, 'rt': 149, 'youtube': 60}, {'carlosdmesag': 266, 'co': 126, 'https': 129, 'rt': 149, 'youtube': 60}, {'carlosdmesag': 266, 'co': 126, 'https': 129, 'rt': 149, 'youtube': 60}, {'carlosdmesag': 266, 'co': 126, 'https': 129, 'rt': 149, 'youtube': 60}]\n",
      "\n",
      "\n",
      "######################################################################\n",
      "Frecuencia de conteo de palabras en tweets - Algoritmo TfIdf\n",
      "######################################################################\n",
      "[{'15': 4, '16': 4, '1hugozarate': 3, '2019': 8, '21f': 6, '4cqizl7c2j': 3, '65': 3, 'abadoblitas': 11, 'acabado': 5, 'acepta': 4, 'actos': 5, 'afi': 5, 'alguien': 3, 'alianza': 3, 'alto': 3, 'amilcarbarral': 6, 'anf': 17, 'anunciando': 5, 'anuncio': 4, 'areglan': 3, 'atbdigital': 6, 'atbrednacional': 3, 'avsix': 4, 'años': 16, 'bi0mekiygu': 3, 'bitduarte': 5, 'blwhght': 3, 'bolivia': 34, 'boliviana': 3, 'ca': 8, 'caballo': 3, 'cabeza': 3, 'calcados': 4, 'callejaselmar': 3, 'candidato': 42, 'candidatura': 19, 'candidaturas': 3, 'canela_cs': 4, 'carlo': 5, 'carlos': 25, 'carlosd': 4, 'carlosdmesag': 266, 'choqueyapu': 8, 'ciudadanos': 21, 'co': 126, 'competirá': 5, 'confirma': 9, 'cotizados': 3, 'cree': 6, 'creen': 4, 'cuadernosge': 3, 'decisión': 8, 'defender': 3, 'demanda': 5, 'democracia': 9, 'democratasbo': 14, 'derecho': 3, 'deseo': 5, 'dexanfetamina': 3, 'diarioeldeber': 3, 'diputados_bol': 4, 'discurso': 6, 'don': 5, 'déjà': 5, 'eduardoerocad': 5, 'elecciones': 7, 'es_kahlo': 4, 'escuchamos': 5, 'esperanza': 4, 'evo': 15, 'evoespueblo': 17, 'fallo': 6, 'falta': 3, 'felicidades': 5, 'finalmente': 5, 'forma': 5, 'foto': 4, 'franzrbarriosg': 3, 'fri': 18, 'fu': 3, 'fulnnsskp5': 21, 'futuro': 7, 'ganar': 3, 'generacion_evo_': 4, 'generacional': 6, 'gobierno': 32, 'goni': 3, 'gracias': 3, 'historia': 14, 'hombre__libre': 3, 'https': 129, 'importante': 4, 'invitación': 6, 'invitado': 3, 'ivanariasduran': 5, 'jaimepazzamora': 18, 'jp_rivero': 3, 'kariduenalfaro': 5, 'katuarkonada': 12, 'lanzar': 3, 'libertad': 3, 'limosna': 3, 'llama': 3, 'luisrevillah': 3, 'magia': 5, 'mar': 5, 'mesa': 42, 'mfuenteselalto': 3, 'ministro': 5, 'monolargavista': 9, 'morales': 10, 'movimiento': 3, 'mundo': 5, 'necesita': 8, 'nlagunaq': 11, 'normapierola': 7, 'notibolgroup': 17, 'noticiasfides': 28, 'octubre': 3, 'oruro': 3, 'pajpaku': 4, 'participación': 4, 'participar': 3, 'partido': 5, 'pasados': 5, 'paulinochura': 3, 'paz': 3, 'país': 9, 'pensardiferente': 7, 'peoresnada': 3, 'pepepomacusi': 8, 'per': 4, 'plataformas': 3, 'política': 6, 'político': 5, 'políticos': 8, 'pomada': 4, 'prefiero': 8, 'pregunta': 5, 'presidencia': 15, 'presidencial': 6, 'presidenciales': 3, 'presidente': 22, 'primarias': 4, 'pueblo': 4, 'pueblos': 4, 'querido': 6, 'razón': 3, 'realmente': 4, 'recuerdo': 3, 'redes': 4, 'renovación': 7, 'repercusiones': 4, 'repite': 3, 'respuesta': 24, 'rmwr9svnym': 4, 'romero': 5, 'rt': 149, 'rubencostasa': 5, 'río': 8, 'saludamos': 5, 'sdoriamedina': 11, 'semana': 5, 'sentimientos': 4, 'señor': 6, 'sociales': 4, 'solparabolivia': 11, 'solteros': 3, 'srjudaz': 4, 'sumaj_warmi': 10, 'tipo': 6, 'tirarme': 8, 'tomar': 5, 'troya': 3, 'tutoquiroga': 4, 'ud': 8, 'unidadnacional1': 3, 'urgentemente': 4, 'valeqinaya': 9, 'venden': 4, 'vender': 5, 'vhcardenasc': 4, 'video': 5, 'vota': 5, 'vu': 5, 'vía': 21, 'vídeos': 4, 'youtube': 60, 'único': 5}, {'2019': 8, '21f': 6, 'abadoblitas': 11, 'amilcarbarral': 6, 'anf': 17, 'atbdigital': 6, 'años': 16, 'bolivia': 34, 'ca': 8, 'candidato': 42, 'candidatura': 19, 'carlos': 25, 'carlosdmesag': 266, 'choqueyapu': 8, 'ciudadanos': 21, 'co': 126, 'confirma': 9, 'cree': 6, 'decisión': 8, 'democracia': 9, 'democratasbo': 14, 'discurso': 6, 'elecciones': 7, 'evo': 15, 'evoespueblo': 17, 'fallo': 6, 'fri': 18, 'fulnnsskp5': 21, 'futuro': 7, 'generacional': 6, 'gobierno': 32, 'historia': 14, 'https': 129, 'jaimepazzamora': 18, 'katuarkonada': 12, 'mesa': 42, 'monolargavista': 9, 'morales': 10, 'necesita': 8, 'nlagunaq': 11, 'normapierola': 7, 'notibolgroup': 17, 'noticiasfides': 28, 'país': 9, 'pensardiferente': 7, 'pepepomacusi': 8, 'política': 6, 'políticos': 8, 'prefiero': 8, 'presidencia': 15, 'presidencial': 6, 'presidente': 22, 'querido': 6, 'renovación': 7, 'respuesta': 24, 'rt': 149, 'río': 8, 'sdoriamedina': 11, 'señor': 6, 'solparabolivia': 11, 'sumaj_warmi': 10, 'tipo': 6, 'tirarme': 8, 'ud': 8, 'valeqinaya': 9, 'vía': 21, 'youtube': 60}, {'abadoblitas': 11, 'anf': 17, 'años': 16, 'bolivia': 34, 'candidato': 42, 'candidatura': 19, 'carlos': 25, 'carlosdmesag': 266, 'ciudadanos': 21, 'co': 126, 'confirma': 9, 'democracia': 9, 'democratasbo': 14, 'evo': 15, 'evoespueblo': 17, 'fri': 18, 'fulnnsskp5': 21, 'gobierno': 32, 'historia': 14, 'https': 129, 'jaimepazzamora': 18, 'katuarkonada': 12, 'mesa': 42, 'monolargavista': 9, 'morales': 10, 'nlagunaq': 11, 'notibolgroup': 17, 'noticiasfides': 28, 'país': 9, 'presidencia': 15, 'presidente': 22, 'respuesta': 24, 'rt': 149, 'sdoriamedina': 11, 'solparabolivia': 11, 'sumaj_warmi': 10, 'valeqinaya': 9, 'vía': 21, 'youtube': 60}, {'anf': 17, 'años': 16, 'bolivia': 34, 'candidato': 42, 'candidatura': 19, 'carlos': 25, 'carlosdmesag': 266, 'ciudadanos': 21, 'co': 126, 'democratasbo': 14, 'evo': 15, 'evoespueblo': 17, 'fri': 18, 'fulnnsskp5': 21, 'gobierno': 32, 'historia': 14, 'https': 129, 'jaimepazzamora': 18, 'katuarkonada': 12, 'mesa': 42, 'notibolgroup': 17, 'noticiasfides': 28, 'presidencia': 15, 'presidente': 22, 'respuesta': 24, 'rt': 149, 'vía': 21, 'youtube': 60}, {'anf': 17, 'años': 16, 'bolivia': 34, 'candidato': 42, 'candidatura': 19, 'carlos': 25, 'carlosdmesag': 266, 'ciudadanos': 21, 'co': 126, 'evo': 15, 'evoespueblo': 17, 'fri': 18, 'fulnnsskp5': 21, 'gobierno': 32, 'https': 129, 'jaimepazzamora': 18, 'mesa': 42, 'notibolgroup': 17, 'noticiasfides': 28, 'presidencia': 15, 'presidente': 22, 'respuesta': 24, 'rt': 149, 'vía': 21, 'youtube': 60}, {'bolivia': 34, 'candidato': 42, 'candidatura': 19, 'carlos': 25, 'carlosdmesag': 266, 'ciudadanos': 21, 'co': 126, 'fulnnsskp5': 21, 'gobierno': 32, 'https': 129, 'jaimepazzamora': 18, 'mesa': 42, 'noticiasfides': 28, 'presidente': 22, 'respuesta': 24, 'rt': 149, 'vía': 21, 'youtube': 60}, {'bolivia': 34, 'candidato': 42, 'carlos': 25, 'carlosdmesag': 266, 'ciudadanos': 21, 'co': 126, 'fulnnsskp5': 21, 'gobierno': 32, 'https': 129, 'mesa': 42, 'noticiasfides': 28, 'presidente': 22, 'respuesta': 24, 'rt': 149, 'vía': 21, 'youtube': 60}, {'bolivia': 34, 'candidato': 42, 'carlos': 25, 'carlosdmesag': 266, 'co': 126, 'gobierno': 32, 'https': 129, 'mesa': 42, 'noticiasfides': 28, 'respuesta': 24, 'rt': 149, 'youtube': 60}, {'bolivia': 34, 'candidato': 42, 'carlosdmesag': 266, 'co': 126, 'gobierno': 32, 'https': 129, 'mesa': 42, 'noticiasfides': 28, 'rt': 149, 'youtube': 60}, {'bolivia': 34, 'candidato': 42, 'carlosdmesag': 266, 'co': 126, 'gobierno': 32, 'https': 129, 'mesa': 42, 'rt': 149, 'youtube': 60}, {'candidato': 42, 'carlosdmesag': 266, 'co': 126, 'https': 129, 'mesa': 42, 'rt': 149, 'youtube': 60}, {'candidato': 42, 'carlosdmesag': 266, 'co': 126, 'https': 129, 'mesa': 42, 'rt': 149, 'youtube': 60}, {'candidato': 42, 'carlosdmesag': 266, 'co': 126, 'https': 129, 'mesa': 42, 'rt': 149, 'youtube': 60}, {'carlosdmesag': 266, 'co': 126, 'https': 129, 'rt': 149, 'youtube': 60}, {'carlosdmesag': 266, 'co': 126, 'https': 129, 'rt': 149, 'youtube': 60}, {'carlosdmesag': 266, 'co': 126, 'https': 129, 'rt': 149, 'youtube': 60}, {'carlosdmesag': 266, 'co': 126, 'https': 129, 'rt': 149, 'youtube': 60}, {'carlosdmesag': 266, 'co': 126, 'https': 129, 'rt': 149, 'youtube': 60}, {'carlosdmesag': 266, 'co': 126, 'https': 129, 'rt': 149, 'youtube': 60}]\n"
     ]
    }
   ],
   "source": [
    "import csv\n",
    "## @data_headers\n",
    "## Id,Screen_Name,Text,Time,Retweets,Impressions,URL \n",
    "def get_tweet_data(file):\n",
    "    tweet_text = []\n",
    "    with open(file, 'r') as csvfile:\n",
    "        tweets = csv.reader(csvfile, delimiter=',', quotechar='\"')\n",
    "        next(tweets, None)\n",
    "        for index, t in enumerate(tweets):\n",
    "            tweet_text.append(t[2])\n",
    "    return tweet_text\n",
    "\n",
    "def tf_idf(word_data):\n",
    "    ## Get stop words list from JSON FILE\n",
    "    global SPANISH_STOP_WORDS\n",
    "    vectorizer = TfidfVectorizer(sublinear_tf=True, max_df=0.5,\n",
    "                                 stop_words=SPANISH_STOP_WORDS)\n",
    "    x = vectorizer.fit_transform(data)\n",
    "    features = vectorizer.get_feature_names()\n",
    "    dense_matrix = x.toarray()\n",
    "#     print(len(features))\n",
    "#     print(dense_matrix.shape)\n",
    "#     print(features)\n",
    "#     print(pd)\n",
    "    return dense_matrix, features\n",
    "\n",
    "def count_vectorizer(data, min_df):\n",
    "    ## Get stop words list from JSON FILE\n",
    "    global SPANISH_STOP_WORDS\n",
    "    vectorizer = CountVectorizer(stop_words=SPANISH_STOP_WORDS, min_df=min_df)\n",
    "    x = vectorizer.fit_transform(data)\n",
    "    features = vectorizer.get_feature_names()\n",
    "    dense_matrix = x.toarray()\n",
    "#     print(len(features))\n",
    "#     print(dense_matrix.shape)\n",
    "#     print(features)\n",
    "#     print(pd)\n",
    "    return dense_matrix, features\n",
    "\n",
    "def word_cloud(func=count_vectorizer):\n",
    "    data = get_tweet_data('tweets_text.csv')\n",
    "    df_values = np.arange(0.01, 0.2, 0.01)\n",
    "    arr_dfs = []\n",
    "    for i in df_values:\n",
    "        total_df = {}\n",
    "        matrix, features = count_vectorizer(data, i)\n",
    "        data_frame = pd.DataFrame(matrix, columns=features)\n",
    "        with open('{} palabras.csv'.format(matrix.shape[1]), 'w', newline='') as outcsv:\n",
    "            fieldnames = ['palabra', 'conteo_df']\n",
    "            writer = csv.DictWriter(outcsv, fieldnames=fieldnames)\n",
    "            writer.writeheader()\n",
    "            for f in features:\n",
    "                count = np.sum(data_frame[f])\n",
    "                total_df[f] = count\n",
    "                writer.writerow({'palabra': f, 'conteo_df': count})\n",
    "        arr_dfs.append(total_df)\n",
    "    return arr_dfs\n",
    "if __name__ == \"__main__\":\n",
    "    clouds = word_cloud(tf_idf)\n",
    "    clouds2 = word_cloud(count_vectorizer)\n",
    "    print('######################################################################')\n",
    "    print('Frecuencia de conteo de palabras en tweets - Algoritmo CountVectorizer')\n",
    "    print('######################################################################')\n",
    "    print(clouds2)\n",
    "    print()\n",
    "    print()\n",
    "    print('######################################################################')\n",
    "    print('Frecuencia de conteo de palabras en tweets - Algoritmo TfIdf')\n",
    "    print('######################################################################')\n",
    "    print(clouds) \n",
    "    "
   ]
  },
  {
   "cell_type": "code",
   "execution_count": null,
   "metadata": {
    "collapsed": true
   },
   "outputs": [],
   "source": []
  }
 ],
 "metadata": {
  "kernelspec": {
   "display_name": "Python 3",
   "language": "python",
   "name": "python3"
  },
  "language_info": {
   "codemirror_mode": {
    "name": "ipython",
    "version": 3
   },
   "file_extension": ".py",
   "mimetype": "text/x-python",
   "name": "python",
   "nbconvert_exporter": "python",
   "pygments_lexer": "ipython3",
   "version": "3.6.0"
  }
 },
 "nbformat": 4,
 "nbformat_minor": 2
}
